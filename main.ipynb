{
 "cells": [
  {
   "cell_type": "markdown",
   "id": "bd831df4",
   "metadata": {},
   "source": [
    "# Idealista API\n",
    "\n",
    "Access is free to a maximum of 100 req/month and it’s limited by 1 req/sec."
   ]
  },
  {
   "cell_type": "code",
   "execution_count": 6,
   "id": "1cb3c53d",
   "metadata": {},
   "outputs": [],
   "source": [
    "import httpx\n",
    "import base64\n",
    "import os\n",
    "\n",
    "# %% Request auth token\n",
    "\n",
    "API_KEY = os.environ.get('API_KEY')\n",
    "SECRET = os.environ.get('API_SECRET')\n",
    "\n",
    "message = API_KEY + \":\" + SECRET\n",
    "auth = \"Basic \" + base64.b64encode(message.encode(\"ascii\")).decode(\"ascii\")\n",
    "\n",
    "headers_dic = {\"Authorization\": auth,\n",
    "               \"Content-Type\": \"application/x-www-form-urlencoded;charset=UTF-8\"}\n",
    "\n",
    "params_dic = {\"grant_type\": \"client_credentials\",\n",
    "              \"scope\": \"read\"}\n",
    "\n",
    "r = httpx.post(\"https://api.idealista.com/oauth/token\",\n",
    "                  headers=headers_dic,\n",
    "                  params=params_dic)\n",
    "# %%"
   ]
  },
  {
   "cell_type": "code",
   "execution_count": 7,
   "id": "a3a4608c",
   "metadata": {},
   "outputs": [],
   "source": [
    "from typing import Final\n",
    "\n",
    "token = r.json()\n",
    "access_token = token['access_token']\n",
    "\n",
    "BASE_URL: Final[str] = \"https://api.idealista.com/3.5/es/search\"\n",
    "headers = {'Authorization': 'Bearer ' + access_token}\n",
    "\n",
    "lat: float = 40.488810\n",
    "lon: float = -3.365879\n",
    "distance: float = 5e3\n",
    "\n",
    "params = {\n",
    "    'center': f'{lat},{lon}',\n",
    "    'country': 'es',\n",
    "    'maxItems': '100',\n",
    "    'numPage': '1',\n",
    "    'distance': distance,\n",
    "    'propertyType': 'homes',\n",
    "    'maxPrice': 400e3,\n",
    "    'operation': 'sale',  # rent\n",
    "}\n",
    "\n",
    "response = httpx.post(BASE_URL, headers=headers, params=params)\n"
   ]
  },
  {
   "cell_type": "code",
   "execution_count": null,
   "id": "37bd1a3e",
   "metadata": {},
   "outputs": [
    {
     "name": "stderr",
     "output_type": "stream",
     "text": [
      "100%|██████████| 6/6 [00:03<00:00,  1.75it/s]\n"
     ]
    }
   ],
   "source": [
    "from tqdm import tqdm\n",
    "\n",
    "data = response.json()\n",
    "\n",
    "pages = [data]\n",
    "\n",
    "if data['totalPages'] > 1:\n",
    "    for i in tqdm(range(2, data['totalPages'] + 1)):\n",
    "        params['numPage'] = i\n",
    "        response = httpx.post(BASE_URL, headers=headers, params=params)\n",
    "\n",
    "        pages.append(response.json())"
   ]
  },
  {
   "cell_type": "code",
   "execution_count": 46,
   "id": "4c9ffb02",
   "metadata": {},
   "outputs": [],
   "source": [
    "import json\n",
    "\n",
    "with open('data/alcala.json', 'w') as f:\n",
    "    json.dump([el for item in pages for el in item[\"elementList\"]], f)"
   ]
  }
 ],
 "metadata": {
  "kernelspec": {
   "display_name": ".venv",
   "language": "python",
   "name": "python3"
  },
  "language_info": {
   "codemirror_mode": {
    "name": "ipython",
    "version": 3
   },
   "file_extension": ".py",
   "mimetype": "text/x-python",
   "name": "python",
   "nbconvert_exporter": "python",
   "pygments_lexer": "ipython3",
   "version": "3.13.5"
  }
 },
 "nbformat": 4,
 "nbformat_minor": 5
}
